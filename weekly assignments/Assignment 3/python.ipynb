{
 "cells": [
  {
   "cell_type": "markdown",
   "metadata": {},
   "source": [
    "Instructions: Implement Python programs to accomplish the following task"
   ]
  },
  {
   "cell_type": "code",
   "execution_count": 2,
   "metadata": {},
   "outputs": [
    {
     "name": "stdout",
     "output_type": "stream",
     "text": [
      "\n",
      "Hello, nabeera! Let's explore your favorite numbers:\n",
      "The number 23 is odd.\n",
      "The number 545 is odd.\n",
      "The number 77 is odd.\n",
      "\n",
      "Here are your numbers and their squares:\n",
      "The number 23 and its square: (23, 529)\n",
      "The number 545 and its square: (545, 297025)\n",
      "The number 77 and its square: (77, 5929)\n",
      "\n",
      "Amazing! The sum of your favorite numbers is: 645\n",
      "645 is not a prime number, but it's still a great number!\n"
     ]
    }
   ],
   "source": [
    "def is_prime(num):\n",
    "    if num <= 1:\n",
    "        return False\n",
    "    if num == 2:\n",
    "        return True\n",
    "    if num % 2 == 0:\n",
    "        return False\n",
    "    for i in range(3, int(num ** 0.5) + 1, 2):\n",
    "        if num % i == 0:\n",
    "            return False\n",
    "    return True\n",
    "\n",
    "def main():\n",
    "    name = input(\"Enter your name: \")\n",
    "    print(f\"\\nHello, {name}! Let's explore your favorite numbers:\")\n",
    "\n",
    "    numbers = []\n",
    "    for i in range(3):\n",
    "        num = int(input(f\"Enter your {'first' if i == 0 else 'second' if i == 1 else 'third'} favorite number: \"))\n",
    "        numbers.append(num)\n",
    "\n",
    "    even_odd_list = [(num, \"even\" if num % 2 == 0 else \"odd\") for num in numbers]\n",
    "    \n",
    "    # Printing the even or odd status\n",
    "    for num, status in even_odd_list:\n",
    "        print(f\"The number {num} is {status}.\")\n",
    "    \n",
    "    # Creating tuples of numbers and their squares\n",
    "    print(\"\\nHere are your numbers and their squares:\")\n",
    "    for num in numbers:\n",
    "        square_tuple = (num, num ** 2)\n",
    "        print(f\"The number {num} and its square: {square_tuple}\")\n",
    "    \n",
    "    # Calculating the sum of the numbers\n",
    "    total_sum = sum(numbers)\n",
    "    print(f\"\\nAmazing! The sum of your favorite numbers is: {total_sum}\")\n",
    "    \n",
    "    # Checking if the sum is a prime number\n",
    "    if is_prime(total_sum):\n",
    "        print(f\"Wow, {total_sum} is a prime number!\")\n",
    "    else:\n",
    "        print(f\"{total_sum} is not a prime number, but it's still a great number!\")\n",
    "\n",
    "if __name__ == \"__main__\":\n",
    "    main()\n"
   ]
  },
  {
   "cell_type": "code",
   "execution_count": null,
   "metadata": {},
   "outputs": [],
   "source": []
  }
 ],
 "metadata": {
  "kernelspec": {
   "display_name": "python12",
   "language": "python",
   "name": "python3"
  },
  "language_info": {
   "codemirror_mode": {
    "name": "ipython",
    "version": 3
   },
   "file_extension": ".py",
   "mimetype": "text/x-python",
   "name": "python",
   "nbconvert_exporter": "python",
   "pygments_lexer": "ipython3",
   "version": "3.12.0"
  }
 },
 "nbformat": 4,
 "nbformat_minor": 2
}
