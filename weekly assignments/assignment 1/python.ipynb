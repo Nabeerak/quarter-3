{
 "cells": [
  {
   "cell_type": "markdown",
   "metadata": {},
   "source": [
    "Age Assignments Based on the Riddle\n",
    "\n"
   ]
  },
  {
   "cell_type": "code",
   "execution_count": 9,
   "metadata": {},
   "outputs": [
    {
     "name": "stdout",
     "output_type": "stream",
     "text": [
      "Anton is 21 yrs old. \n",
      " Beth is 27 yrs old. \n",
      " Chen is 47 yrs old. \n",
      " Drew is 68 yrs old. \n",
      " Ethan is 47 yrs old.\n"
     ]
    }
   ],
   "source": [
    "\n",
    "anton_age= 21\n",
    "beth_age= 21 + 6\n",
    "chen_age= beth_age + 20\n",
    "\n",
    "drew_age= chen_age + anton_age\n",
    "ethan_age= chen_age\n",
    "\n",
    "\n",
    "print(f\"Anton is {anton_age} yrs old. \\n Beth is {beth_age} yrs old. \\n Chen is {chen_age} yrs old. \\n Drew is {drew_age} yrs old. \\n Ethan is {ethan_age} yrs old.\")\n",
    "\n"
   ]
  },
  {
   "cell_type": "markdown",
   "metadata": {},
   "source": [
    "Formatted String Interpolation"
   ]
  },
  {
   "cell_type": "code",
   "execution_count": 10,
   "metadata": {},
   "outputs": [
    {
     "name": "stdout",
     "output_type": "stream",
     "text": [
      "Alice is 30 years old and lives in New York.\n"
     ]
    }
   ],
   "source": [
    "name:str = \"Alice\"\n",
    "age:int = 30\n",
    "city:str = \"New York\"\n",
    "\n",
    "print(f\"{name} is {age} years old and lives in {city}.\")"
   ]
  },
  {
   "cell_type": "markdown",
   "metadata": {},
   "source": [
    "String Manipulation"
   ]
  },
  {
   "cell_type": "code",
   "execution_count": 11,
   "metadata": {},
   "outputs": [
    {
     "name": "stdout",
     "output_type": "stream",
     "text": [
      "capitalized: Hello world\n",
      "uppercase: HELLO WORLD\n",
      "lowercase: hello world\n"
     ]
    }
   ],
   "source": [
    "s:str = \"hElLo WoRlD\"\n",
    "\n",
    "print(\"capitalized:\", s.capitalize())\n",
    "print(\"uppercase:\", s.upper())\n",
    "print(\"lowercase:\", s.lower())"
   ]
  },
  {
   "cell_type": "markdown",
   "metadata": {},
   "source": [
    "Substring Search"
   ]
  },
  {
   "cell_type": "code",
   "execution_count": 36,
   "metadata": {},
   "outputs": [
    {
     "name": "stdout",
     "output_type": "stream",
     "text": [
      "The starting index of 'fox' is 16.\n",
      "'the' appears 2 times.\n"
     ]
    }
   ],
   "source": [
    "s = \"the quick brown fox jumps over the lazy dog\"\n",
    "\n",
    "# Find the index of \"fox\"\n",
    "index_of_fox = s.find(\"fox\")\n",
    "\n",
    "if index_of_fox == -1:\n",
    "    print(\"'fox' is not found.\")\n",
    "else:\n",
    "    print(f\"The starting index of 'fox' is {index_of_fox}.\")\n",
    "\n",
    "# Count occurrences of \"the\"\n",
    "count_the = s.count(\"the\")\n",
    "print(f\"'the' appears {count_the} times.\")\n"
   ]
  },
  {
   "cell_type": "markdown",
   "metadata": {},
   "source": [
    "String Replacement\n",
    "\n"
   ]
  },
  {
   "cell_type": "code",
   "execution_count": 15,
   "metadata": {},
   "outputs": [
    {
     "name": "stdout",
     "output_type": "stream",
     "text": [
      "I love programming in Java\n"
     ]
    }
   ],
   "source": [
    "s = \"I love programming in Python\"\n",
    "print(s.replace(\"Python\", \"Java\"))"
   ]
  },
  {
   "cell_type": "markdown",
   "metadata": {},
   "source": [
    "String Splitting and Joining"
   ]
  },
  {
   "cell_type": "code",
   "execution_count": 25,
   "metadata": {},
   "outputs": [
    {
     "name": "stdout",
     "output_type": "stream",
     "text": [
      "['apple', 'banana', 'cherry', 'dates']\n",
      "apple banana cherry dates\n"
     ]
    }
   ],
   "source": [
    "s = \"apple,banana,cherry,dates\"\n",
    "\n",
    "splitList = s.split(',')\n",
    "joinString = ' '.join(splitList)\n",
    "\n",
    "print(splitList)\n",
    "print(joinString)"
   ]
  },
  {
   "cell_type": "markdown",
   "metadata": {},
   "source": [
    "String Stripping and Justifying"
   ]
  },
  {
   "cell_type": "code",
   "execution_count": 34,
   "metadata": {},
   "outputs": [
    {
     "name": "stdout",
     "output_type": "stream",
     "text": [
      "Python is fun!\n",
      "Python is fun!******\n",
      "******Python is fun!\n"
     ]
    }
   ],
   "source": [
    "s = \"   Python is fun!   \"\n",
    "\n",
    "stripped_string = s.strip()\n",
    "\n",
    "print( stripped_string )\n",
    "print( stripped_string.ljust(20,'*'))\n",
    "print( stripped_string.rjust(20,'*'))\n"
   ]
  },
  {
   "cell_type": "markdown",
   "metadata": {},
   "source": [
    "Convert an integer to its binary representation\n",
    "\n"
   ]
  },
  {
   "cell_type": "code",
   "execution_count": 35,
   "metadata": {},
   "outputs": [
    {
     "name": "stdout",
     "output_type": "stream",
     "text": [
      "Binary representation: 0b101101\n"
     ]
    }
   ],
   "source": [
    "num = 45\n",
    "print(f\"Binary representation: {bin(num)}\")"
   ]
  },
  {
   "cell_type": "markdown",
   "metadata": {},
   "source": [
    "Calculate Powers of Numbers.\n",
    "\n"
   ]
  },
  {
   "cell_type": "code",
   "execution_count": 36,
   "metadata": {},
   "outputs": [
    {
     "name": "stdout",
     "output_type": "stream",
     "text": [
      "Power result: 81\n"
     ]
    }
   ],
   "source": [
    "base:int = 3\n",
    "exponent:int = 4\n",
    "\n",
    "print(f\"Power result: {base ** exponent}\")"
   ]
  },
  {
   "cell_type": "markdown",
   "metadata": {},
   "source": [
    "Round floating-point numbers"
   ]
  },
  {
   "cell_type": "code",
   "execution_count": 37,
   "metadata": {},
   "outputs": [
    {
     "name": "stdout",
     "output_type": "stream",
     "text": [
      "Rounded to nearest integer: 12\n",
      "Rounded to two decimal places: 12.35\n"
     ]
    }
   ],
   "source": [
    "value = 12.34567\n",
    "\n",
    "nearest_integer = round(value)\n",
    "two_decimal = round(value, 2)\n",
    "\n",
    "print(f\"Rounded to nearest integer: {nearest_integer }\")\n",
    "print(f\"Rounded to two decimal places: {two_decimal}\")\n"
   ]
  }
 ],
 "metadata": {
  "kernelspec": {
   "display_name": "Python 3",
   "language": "python",
   "name": "python3"
  },
  "language_info": {
   "codemirror_mode": {
    "name": "ipython",
    "version": 3
   },
   "file_extension": ".py",
   "mimetype": "text/x-python",
   "name": "python",
   "nbconvert_exporter": "python",
   "pygments_lexer": "ipython3",
   "version": "3.12.0"
  }
 },
 "nbformat": 4,
 "nbformat_minor": 2
}
