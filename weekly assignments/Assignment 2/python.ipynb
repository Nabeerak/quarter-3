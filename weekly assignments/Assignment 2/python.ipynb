{
 "cells": [
  {
   "cell_type": "markdown",
   "metadata": {},
   "source": [
    "Add two numbers"
   ]
  },
  {
   "cell_type": "code",
   "execution_count": 5,
   "metadata": {},
   "outputs": [
    {
     "name": "stdout",
     "output_type": "stream",
     "text": [
      "The sum is of 22.0 and 33.0 is 55.0\n"
     ]
    }
   ],
   "source": [
    "first_no = float(input(\"Enter your first number here: \"))\n",
    "second_no = float(input(\"Enter your second number here: \"))\n",
    "\n",
    "print(f\"The sum is of {first_no} and {second_no} is {first_no + second_no}\")\n"
   ]
  },
  {
   "cell_type": "markdown",
   "metadata": {},
   "source": [
    "Agreement Boot"
   ]
  },
  {
   "cell_type": "code",
   "execution_count": 7,
   "metadata": {},
   "outputs": [
    {
     "name": "stdout",
     "output_type": "stream",
     "text": [
      "My favorite animal is also stallions and cats \n"
     ]
    }
   ],
   "source": [
    "fav_animal = str(input(\"whyat is your favorite animal?\"))\n",
    "\n",
    "print(f\"My favorite animal is also {fav_animal} \")"
   ]
  },
  {
   "cell_type": "markdown",
   "metadata": {},
   "source": [
    "Fahrenheit to Celsius"
   ]
  },
  {
   "cell_type": "code",
   "execution_count": 8,
   "metadata": {},
   "outputs": [
    {
     "name": "stdout",
     "output_type": "stream",
     "text": [
      "Temprature: 23.0F = -5.0C\n"
     ]
    }
   ],
   "source": [
    "degrees_fahrenheit = float(input(\"Enter temperature in Fahrenheit:\"))\n",
    "degrees_celsius = (degrees_fahrenheit - 32) * 5.0/9.0\n",
    "\n",
    "print(f\"Temprature: {degrees_fahrenheit}F = {degrees_celsius}C\")\n",
    "\n",
    "\n"
   ]
  },
  {
   "cell_type": "markdown",
   "metadata": {},
   "source": [
    "Triangle Perimeters"
   ]
  },
  {
   "cell_type": "code",
   "execution_count": 10,
   "metadata": {},
   "outputs": [
    {
     "name": "stdout",
     "output_type": "stream",
     "text": [
      "The perimeter of the triangle is 12.5\n"
     ]
    }
   ],
   "source": [
    "\n",
    "side_1 = float(input(\"What is the length of side 1? \"))\n",
    "side_2 = float(input(\"What is the length of side 2? \"))\n",
    "side_3 = float(input(\"What is the length of side 3? \"))\n",
    "\n",
    "\n",
    "perimeter = side_1 + side_2 + side_3\n",
    "\n",
    "print(f\"The perimeter of the triangle is {perimeter}\")"
   ]
  },
  {
   "cell_type": "markdown",
   "metadata": {},
   "source": [
    "Square Number "
   ]
  },
  {
   "cell_type": "code",
   "execution_count": 11,
   "metadata": {},
   "outputs": [
    {
     "name": "stdout",
     "output_type": "stream",
     "text": [
      "23.0 squared is 529.0\n"
     ]
    }
   ],
   "source": [
    "number = float(input(\"Type a number to see its square: \"))\n",
    "\n",
    "square_of_number = number ** 2\n",
    "\n",
    "# Print the result\n",
    "print(f\"{number} squared is {square_of_number}\")"
   ]
  },
  {
   "cell_type": "markdown",
   "metadata": {},
   "source": [
    "Delete a number"
   ]
  },
  {
   "cell_type": "code",
   "execution_count": 13,
   "metadata": {},
   "outputs": [
    {
     "name": "stdout",
     "output_type": "stream",
     "text": [
      "[1, 2, 4, 5]\n"
     ]
    }
   ],
   "source": [
    "numbers:int = [1, 2, 3, 4, 5]\n",
    "numbers.remove(3)\n",
    "print(numbers)"
   ]
  },
  {
   "cell_type": "markdown",
   "metadata": {},
   "source": [
    "Creating a list "
   ]
  },
  {
   "cell_type": "code",
   "execution_count": 16,
   "metadata": {},
   "outputs": [
    {
     "name": "stdout",
     "output_type": "stream",
     "text": [
      "[1, 2, 3, 4, 5, 6]\n"
     ]
    }
   ],
   "source": [
    "list1 = [1, 2, 3]\n",
    "list2 = [4, 5, 6]\n",
    "list1.extend(list2)\n",
    "print(list1)\n"
   ]
  },
  {
   "cell_type": "markdown",
   "metadata": {},
   "source": [
    "Pop Method"
   ]
  },
  {
   "cell_type": "code",
   "execution_count": 17,
   "metadata": {},
   "outputs": [
    {
     "name": "stdout",
     "output_type": "stream",
     "text": [
      "40\n"
     ]
    }
   ],
   "source": [
    "# List with elements\n",
    "items = [10, 20, 30, 40]\n",
    "\n",
    "items_popped = items.pop()\n",
    "print(items_popped)  \n"
   ]
  },
  {
   "cell_type": "markdown",
   "metadata": {},
   "source": [
    "Index Method"
   ]
  },
  {
   "cell_type": "code",
   "execution_count": 18,
   "metadata": {},
   "outputs": [
    {
     "name": "stdout",
     "output_type": "stream",
     "text": [
      "2\n"
     ]
    }
   ],
   "source": [
    "colors = ['red', 'blue', 'green', 'yellow']\n",
    "\n",
    "index_of_green = colors.index('green')\n",
    "print(index_of_green) \n"
   ]
  },
  {
   "cell_type": "markdown",
   "metadata": {},
   "source": [
    "Get last element"
   ]
  },
  {
   "cell_type": "code",
   "execution_count": 31,
   "metadata": {},
   "outputs": [
    {
     "name": "stdout",
     "output_type": "stream",
     "text": [
      "4\n"
     ]
    }
   ],
   "source": [
    "def getting_last_el(list):\n",
    "    print(list.pop())\n",
    "getting_last_el([1, 2, 3, 4])\n"
   ]
  },
  {
   "cell_type": "markdown",
   "metadata": {},
   "source": [
    "Get a List"
   ]
  },
  {
   "cell_type": "code",
   "execution_count": 28,
   "metadata": {},
   "outputs": [
    {
     "name": "stdout",
     "output_type": "stream",
     "text": [
      "Here's the list: ['44', '22', '22']\n"
     ]
    }
   ],
   "source": [
    "\n",
    "values = []\n",
    "while True:\n",
    "    value = input(\"Enter a value: \")\n",
    "    if value == \"\":\n",
    "        break\n",
    "    \n",
    "values.append(value)\n",
    "print(f\"Here's the list: {values}\")\n"
   ]
  }
 ],
 "metadata": {
  "kernelspec": {
   "display_name": "python12",
   "language": "python",
   "name": "python3"
  },
  "language_info": {
   "codemirror_mode": {
    "name": "ipython",
    "version": 3
   },
   "file_extension": ".py",
   "mimetype": "text/x-python",
   "name": "python",
   "nbconvert_exporter": "python",
   "pygments_lexer": "ipython3",
   "version": "3.12.0"
  }
 },
 "nbformat": 4,
 "nbformat_minor": 2
}
